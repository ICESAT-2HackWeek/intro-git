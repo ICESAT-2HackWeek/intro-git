{
 "cells": [
  {
   "cell_type": "markdown",
   "metadata": {},
   "source": [
    "# Introduction to Open Science and Reproducible Research at IceSat2 HackWeek\n",
    "\n",
    "1. IPython and Jupyter - an introduction (1 hour)\n",
    "   1. Project Jupyter and the JupyterLab environment (slides and demo).\n",
    "   1. Jupyter Notebooks: live computational narratives.\n",
    "   1. IPython: useful tips beyond plain Python.\n",
    "   \n",
    "2. Git: version control and introduction to collaboration on Github (1:30 h)\n",
    "   1. A conceptual model of Git\n",
    "   1. Basic usage of Git locally\n",
    "   1. An introduction to collaboration via Github\n",
    "\n",
    "3. Jupyter revisited: collaboration and reproducibility (1:30 h)\n",
    "   1. Rich output in IPython.\n",
    "   1. Jupyter Widgets for interactivity\n",
    "   1. Binder overview (Docker, creating a basic Binder-compliant repo)."
   ]
  },
  {
   "cell_type": "code",
   "execution_count": null,
   "metadata": {},
   "outputs": [],
   "source": []
  }
 ],
 "metadata": {
  "kernelspec": {
   "display_name": "Python 3",
   "language": "python",
   "name": "python3"
  },
  "language_info": {
   "codemirror_mode": {
    "name": "ipython",
    "version": 3
   },
   "file_extension": ".py",
   "mimetype": "text/x-python",
   "name": "python",
   "nbconvert_exporter": "python",
   "pygments_lexer": "ipython3",
   "version": "3.7.3"
  }
 },
 "nbformat": 4,
 "nbformat_minor": 4
}
