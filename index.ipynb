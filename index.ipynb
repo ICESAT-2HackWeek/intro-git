{
 "cells": [
  {
   "cell_type": "markdown",
   "metadata": {},
   "source": [
    "# Introduction to Git and Github\n",
    "\n",
    "## A short tutorial for the ICESat-2 2020 Online Hack Week\n",
    "\n",
    "Instruction team: _Shane Grigsby, Aimee Barciauskas, Sebastian Alvis, Yara Mohajerani, Fernando Paolo, Fernando Pérez, Anthony Arendt, David Shean, Daniel Shapero, Tyler Sutterley, Jessica Scheick_\n",
    "\n",
    "## Outline\n",
    "\n",
    "- Introduction and Motivation\n",
    "- JupyterLab Basics\n",
    "- Command Line Basics\n",
    "- Git Fundamentals\n",
    "- Git repositories\n",
    "- HackWeek Github Worfklows\n",
    "- Wrap up"
   ]
  },
  {
   "cell_type": "code",
   "execution_count": null,
   "metadata": {},
   "outputs": [],
   "source": []
  }
 ],
 "metadata": {
  "kernelspec": {
   "display_name": "Python 3",
   "language": "python",
   "name": "python3"
  },
  "language_info": {
   "codemirror_mode": {
    "name": "ipython",
    "version": 3
   },
   "file_extension": ".py",
   "mimetype": "text/x-python",
   "name": "python",
   "nbconvert_exporter": "python",
   "pygments_lexer": "ipython3",
   "version": "3.7.6"
  }
 },
 "nbformat": 4,
 "nbformat_minor": 4
}
