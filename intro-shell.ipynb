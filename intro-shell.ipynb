{
 "cells": [
  {
   "cell_type": "markdown",
   "metadata": {},
   "source": [
    "# Introduction to the Shell"
   ]
  },
  {
   "cell_type": "markdown",
   "metadata": {},
   "source": [
    "## What is the Shell?"
   ]
  },
  {
   "cell_type": "markdown",
   "metadata": {},
   "source": [
    "The shell is a program that takes commands from the keyboard and gives them to the operating system to perform. \n",
    "\n",
    "It is a user interface to interact with the OS, like a *graphical user interface* (GUI) but through the *command line* (CLI).\n",
    "\n",
    "On most linux systems a program called `bash` acts as the Shell program. There are also other Shell programs besides `bash` (like the different browsers we have to interact with the internet)."
   ]
  },
  {
   "cell_type": "markdown",
   "metadata": {},
   "source": [
    "## What is a Terminal?"
   ]
  },
  {
   "cell_type": "markdown",
   "metadata": {},
   "source": [
    "The *terminal emulator* is another program that opens a window and lets you interact with the Shell.\n",
    "\n",
    "Just like the Shell, there are a bunch of different *terminal emulator* programs that you can use.\n",
    "\n",
    "The Terminal is synonymous with the *command line* or *command prompt*. "
   ]
  },
  {
   "cell_type": "markdown",
   "metadata": {},
   "source": [
    "## What are Shell Scripts? "
   ]
  },
  {
   "cell_type": "markdown",
   "metadata": {},
   "source": [
    "A shell script is a file containing a series of commands. The shell reads this file and carries out the commands (as if they were entered on the command line).\n",
    "\n",
    "The shell is somewhat unique, in that it is both a powerful **command line interface to the system** and a **scripting language interpreter**. "
   ]
  },
  {
   "cell_type": "markdown",
   "metadata": {},
   "source": [
    "## Show me some basic operations "
   ]
  },
  {
   "cell_type": "markdown",
   "metadata": {},
   "source": [
    "- Open a terminal in JupyterLab\n",
    "- Some basic commands: `pwd`, `ls`, `cd`, `mkdir`, `echo`, `mv`, `cat`, `rm`\n",
    "- Read the docs for each command: `man command` \n",
    "- Tab-completion and history search\n",
    "- Run above commands from Notebook cells: `!pwd`, `!ls`, `!cd` ...\n",
    "- Run commands from a shell script"
   ]
  },
  {
   "cell_type": "markdown",
   "metadata": {},
   "source": [
    "Run the following commands on the Terminal\n",
    "\n",
    "```\n",
    "pwd\n",
    "ls\n",
    "ls -1\n",
    "ls -l\n",
    "cd ~\n",
    "pwd\n",
    "ls\n",
    "cd -\n",
    "cd ..\n",
    "pwd\n",
    "ls\n",
    "cd -\n",
    "mkdir test\n",
    "echo 'this text is printed on the screen'\n",
    "echo 'this text is saved to a file' > file.txt\n",
    "echo 'this is another line of text' >> file.txt\n",
    "mv file.txt test/myfile.txt\n",
    "cat test/myfile.txt\n",
    "```"
   ]
  },
  {
   "cell_type": "markdown",
   "metadata": {},
   "source": [
    "Read the documentation (manual pages) of each command\n",
    "```\n",
    "man pwd\n",
    "man ls\n",
    "...\n",
    "```"
   ]
  },
  {
   "cell_type": "markdown",
   "metadata": {},
   "source": [
    "Run the same commands on a Notebook cell but adding a `!` in front if it   \n",
    "=> this is the same as running on the Terminal but from a Notebook cell <=\n"
   ]
  },
  {
   "cell_type": "code",
   "execution_count": 23,
   "metadata": {},
   "outputs": [
    {
     "name": "stdout",
     "output_type": "stream",
     "text": [
      "/Users/paolofer/work/is2hack20/intro-shell\n"
     ]
    }
   ],
   "source": [
    "!pwd"
   ]
  },
  {
   "cell_type": "code",
   "execution_count": 24,
   "metadata": {},
   "outputs": [
    {
     "name": "stdout",
     "output_type": "stream",
     "text": [
      "README.md\n",
      "commands.sh\n",
      "intro-shell.ipynb\n"
     ]
    }
   ],
   "source": [
    "!ls -1"
   ]
  },
  {
   "cell_type": "markdown",
   "metadata": {},
   "source": [
    "Now run all the commands as a Shell script"
   ]
  },
  {
   "cell_type": "code",
   "execution_count": 25,
   "metadata": {},
   "outputs": [],
   "source": [
    "# !sh commands.sh"
   ]
  }
 ],
 "metadata": {
  "kernelspec": {
   "display_name": "Python 3",
   "language": "python",
   "name": "python3"
  },
  "language_info": {
   "codemirror_mode": {
    "name": "ipython",
    "version": 3
   },
   "file_extension": ".py",
   "mimetype": "text/x-python",
   "name": "python",
   "nbconvert_exporter": "python",
   "pygments_lexer": "ipython3",
   "version": "3.7.4"
  }
 },
 "nbformat": 4,
 "nbformat_minor": 4
}
