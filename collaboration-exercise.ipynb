{
 "cells": [
  {
   "cell_type": "markdown",
   "metadata": {},
   "source": [
    "# GitHub collaboration exercise"
   ]
  },
  {
   "cell_type": "markdown",
   "metadata": {},
   "source": [
    "In this exercise we will use GitHub to experiment with collaborative workflows."
   ]
  },
  {
   "cell_type": "markdown",
   "metadata": {},
   "source": [
    "Until now, you have been tracking your own work using Git version control commands. But what if you would like to share these changes within a team, similar to what we will be doing during our hacking sessions? For this, it makes sense for us to have a copy of the repository on a centralized hub, rather than storing it on someone's laptop. There are several different flavors of such \"hubs\", but for our purposes we will use GitHub. "
   ]
  },
  {
   "cell_type": "markdown",
   "metadata": {},
   "source": [
    "## Collaboration scenario\n",
    "\n",
    "Imagine a colleague has created a repository that is now hosted on GitHub. You would like to take this work and make some additions to it. Here is the workflow we will follow:\n",
    "\n",
    "* We'll create a copy of the repository on our own local laptop. This process is called \"cloning\". \n",
    "* We will make some changes to the files\n",
    "* Assuming we have permission to do so, we can then upload these changes back to the GitHub repository (this process is called \"pushing\")."
   ]
  },
  {
   "cell_type": "markdown",
   "metadata": {},
   "source": [
    "## Step 1: Cloning\n",
    "\n",
    "For this exercise we'll be using a [sample GitHub tutorial repository](https://github.com/ICESAT-2HackWeek/sample-repository). Navigate to this repository and have a look around. We'll imagine this is a colleague's working repository to which we'd like to add some changes."
   ]
  },
  {
   "cell_type": "markdown",
   "metadata": {},
   "source": [
    "Clone this repository to your local directory. Start by copying the URL for this Git repository to your clipboard:\n",
    "\n",
    "![copy git URL to clipboard](images/clone-copy-clipboard.png)\n",
    "\n",
    "Next, clone this repository to your local directory. Type \"git clone\" and then paste in the URL:"
   ]
  },
  {
   "cell_type": "code",
   "execution_count": null,
   "metadata": {},
   "outputs": [],
   "source": [
    "%%bash\n",
    "\n",
    "git clone https://github.com/ICESAT-2HackWeek/sample-repository.git"
   ]
  },
  {
   "cell_type": "markdown",
   "metadata": {},
   "source": [
    "## Step 2: Make some changes!\n",
    "\n",
    "Now, make some changes! In order for us all to avoid merge conflicts, let's create a new folder in the \"participants\" folder. Give the folder a unique name, for example your first name and last name. \n",
    "\n",
    "**NOTE**: replace the text in the code block here with your actual name:"
   ]
  },
  {
   "cell_type": "code",
   "execution_count": null,
   "metadata": {},
   "outputs": [],
   "source": [
    "%%bash\n",
    "cd sample-repository/participants\n",
    "\n",
    "mkdir myfirstname-mylastname"
   ]
  },
  {
   "cell_type": "markdown",
   "metadata": {},
   "source": [
    "Next, make a new file in the folder you just created:"
   ]
  },
  {
   "cell_type": "code",
   "execution_count": 6,
   "metadata": {},
   "outputs": [],
   "source": [
    "%%bash\n",
    "cd sample-repository/participants/myfirstname-mylastname\n",
    "\n",
    "touch \"sample-file.txt\""
   ]
  },
  {
   "cell_type": "markdown",
   "metadata": {},
   "source": [
    "Finally, choose whatever method you'd like to add some arbitrary text to that file."
   ]
  },
  {
   "cell_type": "markdown",
   "metadata": {},
   "source": [
    "## Step 3: add/commit\n",
    "\n",
    "After you save changes, we'll follow our usual steps within any Git workflow: we'll ```add``` and ```commit``` the changes we've just made:"
   ]
  },
  {
   "cell_type": "code",
   "execution_count": null,
   "metadata": {},
   "outputs": [],
   "source": [
    "%%bash\n",
    "\n",
    "git add sample-repository/participants/myfirstname-mylastname/sample-file.txt"
   ]
  },
  {
   "cell_type": "markdown",
   "metadata": {},
   "source": [
    "%%bash\n",
    "\n",
    "git commit -m \"initial commit\""
   ]
  },
  {
   "cell_type": "markdown",
   "metadata": {},
   "source": [
    "## Step 4: upload your changes to GitHub\n",
    "\n",
    "Instructions here on how to push. We'll need to introduce the concept of remotes too."
   ]
  },
  {
   "cell_type": "code",
   "execution_count": null,
   "metadata": {},
   "outputs": [],
   "source": []
  }
 ],
 "metadata": {
  "kernelspec": {
   "display_name": "Python 3",
   "language": "python",
   "name": "python3"
  },
  "language_info": {
   "codemirror_mode": {
    "name": "ipython",
    "version": 3
   },
   "file_extension": ".py",
   "mimetype": "text/x-python",
   "name": "python",
   "nbconvert_exporter": "python",
   "pygments_lexer": "ipython3",
   "version": "3.8.2"
  }
 },
 "nbformat": 4,
 "nbformat_minor": 4
}
